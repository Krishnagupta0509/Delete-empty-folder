{
 "cells": [
  {
   "cell_type": "code",
   "execution_count": 4,
   "metadata": {},
   "outputs": [],
   "source": [
    "# This code is deleting the empty folder\n",
    "\n",
    "import os\n",
    "import shutil\n",
    "\n",
    "def remove_empty_folders(folder_location):\n",
    "    all_directories = list(os.walk(folder_location))\n",
    "    for path, a, b in all_directories:\n",
    "        if len(os.listdir(path)) == 0:      # checking if the directory is empty or not\n",
    "            shutil.rmtree(path)             # Delete the folder if empty\n",
    "            \n",
    "i = 0\n",
    "while i < 30:\n",
    "    if __name__ == '__main__':\n",
    "        remove_empty_folders(\"C:\\Users\\krish\\Desktop\\Learn Python\\folder\") # we need to give path here\n",
    "    i = i + 1    "
   ]
  },
  {
   "cell_type": "code",
   "execution_count": null,
   "metadata": {},
   "outputs": [],
   "source": []
  }
 ],
 "metadata": {
  "kernelspec": {
   "display_name": "Python 3",
   "language": "python",
   "name": "python3"
  },
  "language_info": {
   "codemirror_mode": {
    "name": "ipython",
    "version": 3
   },
   "file_extension": ".py",
   "mimetype": "text/x-python",
   "name": "python",
   "nbconvert_exporter": "python",
   "pygments_lexer": "ipython3",
   "version": "3.8.3"
  }
 },
 "nbformat": 4,
 "nbformat_minor": 4
}
